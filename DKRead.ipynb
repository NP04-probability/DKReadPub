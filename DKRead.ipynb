{
  "nbformat": 4,
  "nbformat_minor": 0,
  "metadata": {
    "colab": {
      "name": "DKRead.ipynb",
      "provenance": [],
      "toc_visible": true,
      "include_colab_link": true
    },
    "kernelspec": {
      "name": "python3",
      "display_name": "Python 3"
    }
  },
  "cells": [
    {
      "cell_type": "markdown",
      "metadata": {
        "id": "view-in-github",
        "colab_type": "text"
      },
      "source": [
        "<a href=\"https://colab.research.google.com/github/NP04-probability/DKReadPub/blob/master/DKRead.ipynb\" target=\"_parent\"><img src=\"https://colab.research.google.com/assets/colab-badge.svg\" alt=\"Open In Colab\"/></a>"
      ]
    },
    {
      "cell_type": "markdown",
      "metadata": {
        "id": "cIUzBFQvkIcD",
        "colab_type": "text"
      },
      "source": [
        "## To do\n",
        "* Reorganise sections (move parameters to end)\n",
        "* Prior function"
      ]
    },
    {
      "cell_type": "markdown",
      "metadata": {
        "id": "HoW_hczucCnr",
        "colab_type": "text"
      },
      "source": [
        "# Setup"
      ]
    },
    {
      "cell_type": "markdown",
      "metadata": {
        "id": "rFFUcgqHjUSZ",
        "colab_type": "text"
      },
      "source": [
        "## Importing libraries"
      ]
    },
    {
      "cell_type": "code",
      "metadata": {
        "id": "EWyM_uLPbi7C",
        "colab_type": "code",
        "colab": {}
      },
      "source": [
        "import sys\n",
        "import matplotlib\n",
        "import numpy as np\n",
        "import matplotlib.pyplot as plt"
      ],
      "execution_count": 0,
      "outputs": []
    },
    {
      "cell_type": "markdown",
      "metadata": {
        "id": "U6VxcFts9ceu",
        "colab_type": "text"
      },
      "source": [
        "# Plot setup"
      ]
    },
    {
      "cell_type": "markdown",
      "metadata": {
        "id": "_h3MDGUgjjry",
        "colab_type": "text"
      },
      "source": [
        "## Generate plot\n",
        "Plots data and yfun on a panel with a linear and a logarithmic scale. Puts error bars on the data assuming sqrt(n).\n",
        "\n",
        "It applies the necessary care with negative numbers on the log plot.\n",
        "\n",
        "After calling, call plt.show(). (Allows setup of several panels)"
      ]
    },
    {
      "cell_type": "code",
      "metadata": {
        "id": "tZqdrgBvlNi5",
        "colab_type": "code",
        "colab": {}
      },
      "source": [
        "def doDataPlot(nbins0,data,yfun, saveFigs=False):\n",
        "    \"\"\"\n",
        "    data = np-array of the data points\n",
        "      yfun = np-array of the fitted function values\n",
        "      nbins = #bins (I have removed this (nbins0 is not used), as we can find it from the length of data or yfun).\n",
        "    \"\"\"\n",
        "\n",
        "    nbins, = data.shape          # Get the number of bins from the data array, yfun should be the same\n",
        "    x = np.arange(nbins)         # 1-D array 0,1,2...nbins-1\n",
        "    xerr = 1 + np.zeros(nbins)   # 1-D array size nbins, all have value 1\n",
        "    yerrH = np.sqrt(data)        # 1-D array size nbins\n",
        "    yerrL = data - np.maximum(1e-2,data - yerrH)  # fix non-negative for logy\n",
        "\n",
        "    ## yf = np.exp(-x)*0.8       # Something to plot as a line that is a bit different from the data\n",
        "\n",
        "    fig, axs = plt.subplots(nrows=2, ncols=1, sharex=True)  # Two plots on panel\n",
        "    fig.patch.set_facecolor('w')\n",
        "\n",
        "    ax = axs[0]                  # Commands to ax affect the top plot\n",
        "    ## ax.set_yscale('log')\n",
        "    ax.errorbar(x, data, yerr=[yerrL,yerrH], fmt='--o')  # Plot the data\n",
        "    ax.plot(x,yfun,color='r')    # Plot the function\n",
        "    ax.set_title('Giles playing around')\n",
        "\n",
        "    ax = axs[1]                  # Commands to ax affect the bottom plot\n",
        "    ax.set_yscale('log')\n",
        "    ax.errorbar(x, data, yerr=[yerrL, yerrH], xerr=xerr,\n",
        "            fmt='o', ecolor='g', capthick=2)          # Plot the data\n",
        "    ax.plot(x,yfun,color='r')    # Plot the function\n",
        "    ax.set_title('Giles playing around 2')\n",
        "\n",
        "    fig.suptitle('File %s'%gFileName)\n",
        "    fig.tight_layout()\n",
        "    if saveFigs:\n",
        "        fig.savefig(\"Fit.pdf\", bbox_inches='tight')\n",
        "        plt.close(fig)\n",
        "    # plt.show()   # Do this in main to allow several panels of plots"
      ],
      "execution_count": 0,
      "outputs": []
    },
    {
      "cell_type": "markdown",
      "metadata": {
        "id": "dh699ZBwkdBU",
        "colab_type": "text"
      },
      "source": [
        "## Class: MCMC output histograms\n",
        "The next three functions are for making and displaying the histograms from the MCMC output, assuming four parameters are of interest."
      ]
    },
    {
      "cell_type": "code",
      "metadata": {
        "id": "5tmaHi-Nlt9g",
        "colab_type": "code",
        "colab": {}
      },
      "source": [
        "class doOutputHistos4:    # There is always a 'self' parameter in functions in classes\n",
        "    def __init__(self, Fit, Names):\n",
        "        \"\"\"\n",
        "          Since we have four parameter variables in the fit, we reserve\n",
        "          space for four 1-D projections of the probability distribution\n",
        "          and six for the 2-D projections of the probability distributions.\n",
        "          Use this class this way:\n",
        "            oh = doOutputHistos4(gFit,Names)  # Once at start of program\n",
        "            oh.fill(current)         # In the MCMC loop\n",
        "            oh.plot()                # At the end\n",
        "            plt.show()               # When all the plot panes have been set up.\n",
        "\n",
        "          Fit is a numpy array.  It is usually the gFit variable from\n",
        "          the setup part of the program at the top, but since this is a class, we could\n",
        "          add several different sets of histograms if we want.\n",
        "          Names is a python list with short names for each parameter for histogram titles\n",
        "        \"\"\"\n",
        "        # The class has the following 'local variables' (initialise to None for now)\n",
        "        self.histo1 = [None]*4   # list size 4 of numpy arrays for the 1-D histogram bins\n",
        "        self.histo2 = [None]*6   # list size 6 of numpy 2-D arrays for the 2-D histograms\n",
        "        self.idx = [None]*4      # list size 4 of integers giving row# in Fit of our 4 variables\n",
        "        self.plotinfo = [None]*4 # list size 4 of python tuples (name, #bins, low edge, high edge)\n",
        "        self.xvar = np.array([0,0,0,1,1,2])  # 2-D plot which variable on x axis\n",
        "        self.yvar = np.array([1,2,3,2,3,3])  # 2-D plot which variable on y axis\n",
        "\n",
        "        n2,n1 = Fit.shape      # n2 is #parameters (n1 is #columns in Fit)\n",
        "        n0 = 0                 # Count the #parameters we find to histogram, must be =4\n",
        "        for i in range(n2):\n",
        "            if Fit[i,3] > 0.5: n0 += 1\n",
        "        if n0 != 4:            # Warn and stop running\n",
        "            print(\"In doOutputHisto4, found %d \"%n0,\n",
        "                  \"variables enabled, must be 4.  Check gFit variable\")\n",
        "            sys.exit(1)\n",
        "\n",
        "        # Step through the variable list in Fit, and make the memory areas for the plots\n",
        "        # Usually if Fit just contains the four variables, so n0 = i\n",
        "        n0 = 0\n",
        "        nbin = np.zeros(4,dtype=np.int64)\n",
        "        for i in range(n2):\n",
        "            if Fit[i,3] > 0.5:\n",
        "                nbin[n0] = int(Fit[i,0])\n",
        "                self.idx[n0] = i\n",
        "                self.plotinfo[n0] = (Names[i], nbin[n0], Fit[i,1], Fit[i,2])\n",
        "                self.histo1[n0] = np.zeros(nbin[n0])\n",
        "                n0 += 1\n",
        "        self.histo2[0] = np.zeros((nbin[0],nbin[1]))   # 2-D correlation histos\n",
        "        self.histo2[1] = np.zeros((nbin[0],nbin[2]))\n",
        "        self.histo2[2] = np.zeros((nbin[0],nbin[3]))\n",
        "        self.histo2[3] = np.zeros((nbin[1],nbin[2]))\n",
        "        self.histo2[4] = np.zeros((nbin[1],nbin[3]))\n",
        "        self.histo2[5] = np.zeros((nbin[2],nbin[3]))\n",
        "        # The above 6 lines can in principle be shortened to\n",
        "        # for n0 in range(6):\n",
        "        #    self.histo2[n0][self.xvar[n0],self.yvar[n0]] +=1\n",
        "\n",
        "\n",
        "    def fill(self,current):\n",
        "        \"\"\"\n",
        "          Fill the step in the MCMC into the different projection histograms.\n",
        "          We have already stored the info on the four parameters in the class variables\n",
        "        \"\"\"\n",
        "        # Decide the bin for each of the four variables and fill the 1-D histogram\n",
        "        bin = np.zeros(4,dtype=np.int64)\n",
        "        for n0 in range(4):\n",
        "            val = current[self.idx[n0]]\n",
        "            (name, nbin, lowe, highe) = self.plotinfo[n0]\n",
        "            b = int(nbin*(val-lowe)/(highe-lowe))\n",
        "            if b < 0:      b = 0\n",
        "            if b > nbin-1: b = nbin-1\n",
        "            self.histo1[n0][b] += 1.\n",
        "            bin[n0] = b    # Local array for filling 2-D histos\n",
        "        self.histo2[0][bin[0],bin[1]] += 1   # 2-D correlation histos\n",
        "        self.histo2[1][bin[0],bin[2]] += 1\n",
        "        self.histo2[2][bin[0],bin[3]] += 1\n",
        "        self.histo2[3][bin[1],bin[2]] += 1\n",
        "        self.histo2[4][bin[1],bin[3]] += 1\n",
        "        self.histo2[5][bin[2],bin[3]] += 1\n",
        "        # The above 6 lines can in principle be shortened to\n",
        "        # for n0 in range(6):\n",
        "        #    self.histo2[n0][self.xvar[n0],self.yvar[n0]] +=1\n",
        "\n",
        "    def plot(self, saveFigs=False):\n",
        "        \"\"\"\n",
        "          Make a matplotlib plot with the four 1-D projection histograms and a\n",
        "          matplotlib plot with the six 2-D projections on it.  Later we will\n",
        "          try to find the 68% and 90% contours, but that is not done yet.\n",
        "        \"\"\"\n",
        "        fig, axs = plt.subplots(nrows=2, ncols=2)  # Two plots on panel\n",
        "        fig.patch.set_facecolor('w')\n",
        "        axss = axs.flatten()\n",
        "\n",
        "        for n0 in range(4):\n",
        "            ax = axss[n0]\n",
        "            (name, nbin, lowe, highe) = self.plotinfo[n0]\n",
        "            x = np.linspace(lowe,highe,nbin)\n",
        "            yerrV = np.sqrt(self.histo1[n0])\n",
        "            ax.errorbar(x, self.histo1[n0], yerr=yerrV, fmt='o')  # Plot the 1D\n",
        "            ax.set_title('Parameter %s'%name)\n",
        "        fig.suptitle('1-D projection plots.  File %s' % gFileName)\n",
        "\n",
        "        if saveFigs:\n",
        "            fig.savefig(\"./1D_Plots.pdf\", bbox_inches='tight')\n",
        "            plt.close(fig)\n",
        "\n",
        "        fig2, axs2 = plt.subplots(nrows=2, ncols=3)  # Six plots on panel\n",
        "        fig2.patch.set_facecolor('w')\n",
        "        axss = axs2.flatten()\n",
        "\n",
        "        cm = ['RdBu_r', 'viridis']\n",
        "\n",
        "        for n0 in range(6):\n",
        "            ax = axss[n0]\n",
        "            (namex,nbinx,lowex,highex) = self.plotinfo[self.xvar[n0]]\n",
        "            (namey,nbiny,lowey,highey) = self.plotinfo[self.yvar[n0]]\n",
        "            x = np.linspace(lowex,highex,nbinx) # pcolormesh needs N+1 bins\n",
        "            y = np.linspace(lowey,highey,nbiny) # pcolormesh needs N+1 bins\n",
        "            pcm = ax.pcolormesh(x[1:],y[1:], self.histo2[n0][1:-1,1:-1].T ,cmap=cm[0])\n",
        "            ax.set_title(\"%s %s\" % (namex,namey))\n",
        "            fig2.colorbar(pcm,ax=ax)\n",
        "        fig2.suptitle('2-D projection plots. File %s' % gFileName)\n",
        "\n",
        "        if saveFigs:\n",
        "            # Save as png as large number of bins causes problems for pdf\n",
        "            fig2.savefig(\"./2D_Plots.png\", bbox_inches='tight')\n",
        "            plt.close(fig2)"
      ],
      "execution_count": 0,
      "outputs": []
    },
    {
      "cell_type": "markdown",
      "metadata": {
        "id": "ZQxMbs5XlzDa",
        "colab_type": "text"
      },
      "source": [
        "## Class: history plots\n",
        "The next three functions are for making and displaying the histograms from the MCMC history, assuming four parameters are of interest."
      ]
    },
    {
      "cell_type": "code",
      "metadata": {
        "id": "owDXkJOjmElf",
        "colab_type": "code",
        "colab": {}
      },
      "source": [
        "class doHistoryHistos4:    # There is always a 'self' parameter in functions in classes\n",
        "    def __init__(self, Fit, Names):\n",
        "        \"\"\"\n",
        "          Similar to the doOutputHistos class above, but for history plots\n",
        "          The calling sequence is very similar:\n",
        "            oh = doHistoryHistos4(gFit,Names)  # Once at start of program\n",
        "            oh.fill(current,time)    # In the MCMC loop\n",
        "            oh.plot()                # At the end\n",
        "            plt.show()               # When all the plot panes have been set up.\n",
        "        \"\"\"\n",
        "        # The class has the following 'local variables'\n",
        "        self.histo1 = [None]*4  # list size 4 of numpy arrays for the 1-D histogram bins\n",
        "        self.idx = [None]*4     # list size 4 of integers giving row# in Fit of our 4 variables\n",
        "        self.names = [None]*4   # list size 4 of python strings with parameter name (to label plot)\n",
        "        self.nbins = gHistoryMax/gHistoryStep + 1  # Number of bins in history\n",
        "\n",
        "        n2,n1 = Fit.shape      # n2 is #parameters (n1 is #columns in Fit)\n",
        "        n0 = 0                 # Count the #parameters we find to histogram, must be =4\n",
        "        for i in range(n2):\n",
        "            if Fit[i,3] > 0.5: n0 += 1\n",
        "        if n0 != 4:            # Warn and stop running\n",
        "            print(\"In doHistoryHisto4, found %d \"%n0,\n",
        "                  \"variables enabled, must be 4.  Check gFit variable\")\n",
        "            sys.exit(1)\n",
        "\n",
        "        # Check gHistoryMax and gHistoryStep are not crazy\n",
        "        if gHistoryMax/gHistoryStep > 1000:\n",
        "            print(\"In doHistoryHisto4, gHistoryStep and gHistoryMax give No. bins > 1000, stopping\")\n",
        "            sys.exit(1)\n",
        "\n",
        "        # Step through the variable list in Fit, and make the memory areas for the plots\n",
        "        # Usually if Fit just contains the four variables, so n0 = i\n",
        "        n0 = 0\n",
        "        for i in range(n2):\n",
        "            if Fit[i,3] > 0.5:\n",
        "                self.idx[n0] = i\n",
        "                self.names[n0] = Names[i]\n",
        "                self.histo1[n0] = np.zeros(self.nbins)\n",
        "                n0 += 1\n",
        "\n",
        "    def fill(self,current,time):\n",
        "        \"\"\"\n",
        "          Fill the step into the history plots\n",
        "        \"\"\"\n",
        "        if time < 0 or time > self.nbins-1:\n",
        "            print(\"Warning in doHistoryPlots, time %d is out of range\"%time)\n",
        "            return\n",
        "        for n0 in range(4):\n",
        "            val = current[self.idx[n0]]\n",
        "            self.histo1[n0][time] = val\n",
        "            # print(\"hist fill debug: \",n0, val, self.idx[n0], time, self.histo1[n0][time])\n",
        "\n",
        "    def plot(self, saveFigs):\n",
        "        \"\"\"\n",
        "          Make a matplotlib plot with the four 1-D hitsory plots\n",
        "        \"\"\"\n",
        "        fig, axs = plt.subplots(nrows=2, ncols=2, sharex=True)  # Two plots on panel\n",
        "        fig.patch.set_facecolor('w')\n",
        "        axss = axs.flatten()    # quash the 2-D array axs into a 4x1 1-D array\n",
        "\n",
        "        for n0 in range(4):\n",
        "            ax = axss[n0]\n",
        "            x = np.arange(0, gHistoryMax+gHistoryStep, gHistoryStep)\n",
        "            # print(\"History plot debug: \",n0,self.histo1[n0])\n",
        "            ax.plot(x,self.histo1[n0],color='r')    # Plot the function\n",
        "            ax.set_title('Parameter %s history' % self.names[n0])\n",
        "\n",
        "        if saveFigs:\n",
        "            fig.savefig(\"History.pdf\", bbox_inches='tight')\n",
        "            plt.close(fig)"
      ],
      "execution_count": 0,
      "outputs": []
    },
    {
      "cell_type": "markdown",
      "metadata": {
        "id": "9UYUyH6G-Gxl",
        "colab_type": "text"
      },
      "source": [
        "# Simulation"
      ]
    },
    {
      "cell_type": "markdown",
      "metadata": {
        "id": "cqYX7MCgmJoI",
        "colab_type": "text"
      },
      "source": [
        "## Prior\n",
        "Return minus the log of the prior probability of obtaining the parameters given in current\n",
        "\n",
        "The caller will then do np.exp(-ans) to get the probability."
      ]
    },
    {
      "cell_type": "code",
      "metadata": {
        "id": "iLmAIw_Bm3I4",
        "colab_type": "code",
        "colab": {}
      },
      "source": [
        "def prior(current):\n",
        "    return 0.       # Uniform prior for now: -log(1.)=0."
      ],
      "execution_count": 0,
      "outputs": []
    },
    {
      "cell_type": "markdown",
      "metadata": {
        "id": "w2tzy2pmjsmD",
        "colab_type": "text"
      },
      "source": [
        "## Log-likelihood\n",
        "Calculate the log-likelihood for the given parameters, under the probability model."
      ]
    },
    {
      "cell_type": "code",
      "metadata": {
        "id": "6ZFlXr6jj_Mk",
        "colab_type": "code",
        "colab": {}
      },
      "source": [
        "def prob(current):\n",
        "\n",
        "    norm  = current[0]\n",
        "    lam   = current[1]\n",
        "    bkgd  = current[2]\n",
        "    slope = current[3]\n",
        "\n",
        "    # If any of the parameters are out of range, disqualify model (by making log-likelihood -> -inf)\n",
        "    if (norm<0 or lam < 0 or bkgd < 0):\n",
        "        return -2e-308\n",
        "    else:\n",
        "        # Do the log of poisson function here\n",
        "        nbins, = gDataBins.shape # Should give size as a single number\n",
        "\n",
        "        ans = 0.\n",
        "        for x in range(35,nbins):\n",
        "            mu = norm*np.exp(-x*lam/10000.) +bkgd\n",
        "            ## print (np.exp(-x*lam/10000.))\n",
        "            if gDataBins[x] != 0:\n",
        "                ans1 = mu - gDataBins[x] + gDataBins[x]*np.log(gDataBins[x]/mu)\n",
        "                ans += ans1\n",
        "                ## print(\"x,ans ans1 mu data norm\",x,ans,ans1,mu,gDataBins[x],norm,bkgd,lam)\n",
        "            else:\n",
        "                ans += mu\n",
        "\n",
        "        # print(\"ans = \",ans)\n",
        "        # This next line is the fictitious data, it runs fast to debug the MCMC software\n",
        "        # ans = ((norm-560.)/4.)**2 + ((lam-280.)/20.)**2 + ((bkgd-99.)/3.)**2 + (slope-0.)**2\n",
        "\n",
        "        # IMPORTANT: Return ans = -ln(prob), The caller will then do exp(-ans) to get the prob\n",
        "        #            This allows the caller to subtract the logs rather than divide the probs to\n",
        "        #            avoid rounding errors. \n",
        "        return ans                         # was return np.exp(-ans)"
      ],
      "execution_count": 0,
      "outputs": []
    },
    {
      "cell_type": "markdown",
      "metadata": {
        "id": "q42VrRUDnA6b",
        "colab_type": "text"
      },
      "source": [
        "## Sample\n",
        "Return a proposed new point in the parameter space. \n",
        "\n",
        "To respect the Metropolis-Hastings algorithm, this should be reversible (i.e. symmetric) and only depend on the current state.\n",
        "\n",
        "We do what is normally done and move by a random amount. \n",
        "\n",
        "To speed up, rather than using a real Gaussian, we add 4 uniform random numbers together, which is a trick from very old slow computers."
      ]
    },
    {
      "cell_type": "code",
      "metadata": {
        "id": "YvvtKL9InOF6",
        "colab_type": "code",
        "colab": {}
      },
      "source": [
        "def sample(current):\n",
        "    n2,n1 = gFit.shape      # n2 is #parameters (n1 is #columns in Fit)\n",
        "    rn = np.random.random((4,n2))    # Create 4 uniform random numbers per parameter\n",
        "    next = np.zeros(n2)\n",
        "    for i in range(n2):\n",
        "        sig = gFit[i,4]\n",
        "        r = (rn[i,0]+rn[i,1]+rn[i,2]+rn[i,3]-2.)/10.\n",
        "        next[i] = current[i] + sig*r\n",
        "\n",
        "    return next"
      ],
      "execution_count": 0,
      "outputs": []
    },
    {
      "cell_type": "markdown",
      "metadata": {
        "id": "c4zB5vkynlRB",
        "colab_type": "text"
      },
      "source": [
        "## Metropolis-Hastings\n",
        "Returns a sample of the posterior probability generated from the function prob() using the Metropolis-Hastings algorithm. \n",
        "\n",
        "The function sample() chooses the next test point according to the criteria of the Metrolplis-Hastings algorithm.\n",
        " "
      ]
    },
    {
      "cell_type": "code",
      "metadata": {
        "id": "XosBPyren1Ii",
        "colab_type": "code",
        "colab": {}
      },
      "source": [
        "def metropHast(saveFigs=False):\n",
        "    \"\"\"\n",
        "     The functions prob(), sample() and prior() are defined above.\n",
        "     Returns a sample of the posterior probability generated from the\n",
        "     function prob() using the Metropolis-Hastings algorithm to make\n",
        "     a Markov Chain Monte Carlo.  The function sample() chooses the\n",
        "     next test point according to the criteria needed by Metrolplis-Hastings.\n",
        "    \"\"\"\n",
        "\n",
        "    # Return a numpy array where each row is an MC outcome.\n",
        "    # There are 5 columns, 4 for the parameters and one (cnt) for\n",
        "    # the number of times the MH algorithm sat in this place.\n",
        "\n",
        "    # Question: How do we turn this array into a 1-D projection histogram\n",
        "    # or a 2-D contour plot?\n",
        "\n",
        "    n2,n1 = gFit.shape      # n2 is #parameters (n1 is #columns in Fit)\n",
        "    current = np.zeros(n2)\n",
        "    for i in range(n2):\n",
        "        current[i] = gFit[i,5]   # Copy the starting values of parameters\n",
        "\n",
        "    ntrials = 0\n",
        "    nmoved = 0\n",
        "\n",
        "    oh = doOutputHistos4(gFit,gNames)\n",
        "    hh = doHistoryHistos4(gFit,gNames)\n",
        "\n",
        "    cpost = prob(current) + prior(current)\n",
        "    for a in range (gSampleMax):\n",
        "        next = sample(current)\n",
        "        nprior = prior(current)\n",
        "        if nprior > -2.e+308:      # If new prior nprior is zero, skip calculating nprob\n",
        "            nprob = prob(next)    # This is the bit that takes a long time\n",
        "        else: nprob = -2.e+308\n",
        "        npost = nprob + nprior\n",
        "\n",
        "        # We have chosen our new point and calculated the probability\n",
        "        # here, use the MH algorithm to choose whether to move\n",
        "        logalpha = npost - cpost     # Log of acceptance ratio\n",
        "        alpha = np.exp(-logalpha)    # Alpha [By doint the above manipulation with logs, we avoid very small numbers]\n",
        "        u = np.random.random_sample()   # Pick a random between 0 and 1\n",
        "        ## print \"MHdebug: cpost=%7.5f npost=%7.5f alpha=%7.5f u=%7.5f\"%(cpost,npost,alpha,u),        # This is python 2, in python 3 to skip newline, do print(3, end='')\n",
        "        if u<alpha:          # Move to new sampling\n",
        "            for i in range(n2): current[i] = next[i]\n",
        "            cpost = npost\n",
        "            nmoved += 1\n",
        "            ##print(\" accepted\")\n",
        "        ##else: print(\" rejected\")\n",
        "        ntrials += 1\n",
        "\n",
        "        if ntrials == gBurnIn:\n",
        "            print(\"Last sample of burnin, now recording\")\n",
        "        if (ntrials % gSamplePrt) == 0:\n",
        "            print(\"Processing %d of %d %d moved (fraction %f)\"%(ntrials,gSampleMax,nmoved,(nmoved+0.001)/ntrials),current,alpha)\n",
        "        if (ntrials % gHistoryStep == 0 and ntrials < gHistoryMax):\n",
        "            hh.fill(current,ntrials/gHistoryStep)\n",
        "        if (ntrials >= gBurnIn):\n",
        "            oh.fill(current)\n",
        "\n",
        "    # Finished all the samples, now do the plots\n",
        "    print(\"Finished all %d samples.   Number moved was %d\"%(ntrials,nmoved))\n",
        "    oh.plot(saveFigs)\n",
        "    hh.plot(saveFigs)"
      ],
      "execution_count": 0,
      "outputs": []
    },
    {
      "cell_type": "markdown",
      "metadata": {
        "id": "BYrZrMep-Tbf",
        "colab_type": "text"
      },
      "source": [
        "# Run"
      ]
    },
    {
      "cell_type": "markdown",
      "metadata": {
        "id": "oyfZonWpgglB",
        "colab_type": "text"
      },
      "source": [
        "## Setup: parameters\n",
        "Global variables begin with 'g'."
      ]
    },
    {
      "cell_type": "code",
      "metadata": {
        "id": "056EHZ3TgtxM",
        "colab_type": "code",
        "colab": {}
      },
      "source": [
        "gNames = [\"norm\",\"lam\",\"bkgd\",\"slope\"]    # Names of parameters in same order as in gFit\n",
        "\n",
        "\n",
        "# Plot settings: one row for each parameter. Format is:\n",
        "# [N. of bins in histogram, low edge of first bin, high edge of last bin, plot yes(1)/no(0) (max 4), step-size, start value]\n",
        "gFit = np.array( [ [100.,  45.,   65., 1., 20.,  40.],     # N parameter (normalisation)\n",
        "                   [100., 125.,  150., 1., 10., 100.],     # lam parameter (lifetime in bins)\n",
        "                   [100.,  95.,  105., 1., 0.1,  0.3],     # background level parameter (per bin)\n",
        "                   [100.,  -1.,   +1., 1.,  0.,   0.]      # slope on acceptance\n",
        "                                                ], dtype=np.float64 )\n",
        "\n",
        "gBurnIn      =  5000   # How many iterations of the MCMC do we throw away\n",
        "gHistoryMax  = 50000   # For how long do we record the history in the history plots\n",
        "gHistoryStep =   500   # We don't record every history sample, this is how many to step\n",
        "gSampleMax   = 50000   # How long to run the MonteCarlo for\n",
        "gSamplePrt   =   100   # How often should we print the status\n",
        "\n",
        "gSaveFigs = False"
      ],
      "execution_count": 0,
      "outputs": []
    },
    {
      "cell_type": "markdown",
      "metadata": {
        "id": "pVt-g4N3oFn6",
        "colab_type": "text"
      },
      "source": [
        "## Running the simulation"
      ]
    },
    {
      "cell_type": "code",
      "metadata": {
        "id": "scUPiUDF41IE",
        "colab_type": "code",
        "outputId": "545379a4-8d32-4817-ec8a-efafe4c7cb64",
        "colab": {
          "base_uri": "https://localhost:8080/",
          "height": 122
        }
      },
      "source": [
        "# Mounting google drive\n",
        "from google.colab import drive\n",
        "drive.mount('/content/drive')"
      ],
      "execution_count": 0,
      "outputs": [
        {
          "output_type": "stream",
          "text": [
            "Go to this URL in a browser: https://accounts.google.com/o/oauth2/auth?client_id=947318989803-6bn6qk8qdgf4n4g3pfee6491hc0brc4i.apps.googleusercontent.com&redirect_uri=urn%3aietf%3awg%3aoauth%3a2.0%3aoob&response_type=code&scope=email%20https%3a%2f%2fwww.googleapis.com%2fauth%2fdocs.test%20https%3a%2f%2fwww.googleapis.com%2fauth%2fdrive%20https%3a%2f%2fwww.googleapis.com%2fauth%2fdrive.photos.readonly%20https%3a%2f%2fwww.googleapis.com%2fauth%2fpeopleapi.readonly\n",
            "\n",
            "Enter your authorization code:\n",
            "··········\n",
            "Mounted at /content/drive\n"
          ],
          "name": "stdout"
        }
      ]
    },
    {
      "cell_type": "code",
      "metadata": {
        "id": "zHJTos4GoMfF",
        "colab_type": "code",
        "outputId": "495e3307-2224-41cc-c2cc-fc74c3800d04",
        "colab": {
          "base_uri": "https://localhost:8080/",
          "height": 391
        }
      },
      "source": [
        "datafile = 'NP08-2019.dat'\n",
        "databins = [] \n",
        "\n",
        "with open('/content/drive/My Drive/Colab Notebooks/NP04r/NP04 data/'+datafile, 'rb') as f:\n",
        "    titleline = f.readline()\n",
        "    headerline = f.readline()\n",
        "    (cNChan,cRealT,cLiveT,cOChan,cCookie,cDetNo,cSegNo,StartD,StartT,Filename) = headerline.split();\n",
        "\n",
        "# The cNChan etc variables are read as strings, convert to integer to use them\n",
        "    NChan = int(cNChan)    # #channels in histogram (= #numbers to read from file still)\n",
        "    RealT = int(cRealT)    # Time in seconds the data were collected for\n",
        "    LiveT = int(cLiveT)    # Time the detector was accepting data (nearly same as RealT,\n",
        "                           # but detector is dead for short time after receiving each pulse.\n",
        "    print(\"NChan %d RealT %d LiveT %d\"%(NChan,RealT,LiveT))\n",
        "\n",
        "# Now read the channel contents, which is the rest of the file\n",
        "    gDataBins = np.fromfile(f, sep=\" \")\n",
        "    # print(gDataBins)\n",
        "    f.close()\n",
        "\n",
        "# Do the Metroplois Hastings MCMC fit.  TODO = This should return the bet fit values\n",
        "    metropHast(gSaveFigs)\n",
        "\n",
        "# Construct a function with the same number of bins, not fit yet\n",
        "    nbins, = gDataBins.shape # Should give size as a single number\n",
        "    x = np.arange(nbins)    # 1D array 0,1,2,... nbins\n",
        "    yfun = 2000.*np.exp(-x/50.)  # 1D array of an exponential function\n",
        "    # print(x)\n",
        "    # print(yfun)\n",
        "\n",
        "    doDataPlot(nbins,gDataBins,yfun, gSaveFigs)\n",
        "    if not gSaveFigs:\n",
        "        plt.show()"
      ],
      "execution_count": 0,
      "outputs": [
        {
          "output_type": "stream",
          "text": [
            "NChan 512 RealT 4399663 LiveT 4399653\n"
          ],
          "name": "stdout"
        },
        {
          "output_type": "error",
          "ename": "TypeError",
          "evalue": "ignored",
          "traceback": [
            "\u001b[0;31m---------------------------------------------------------------------------\u001b[0m",
            "\u001b[0;31mTypeError\u001b[0m                                 Traceback (most recent call last)",
            "\u001b[0;32m<ipython-input-38-062eb9d69789>\u001b[0m in \u001b[0;36m<module>\u001b[0;34m()\u001b[0m\n\u001b[1;32m     20\u001b[0m \u001b[0;34m\u001b[0m\u001b[0m\n\u001b[1;32m     21\u001b[0m \u001b[0;31m# Do the Metroplois Hastings MCMC fit.  TODO = This should return the bet fit values\u001b[0m\u001b[0;34m\u001b[0m\u001b[0;34m\u001b[0m\u001b[0;34m\u001b[0m\u001b[0m\n\u001b[0;32m---> 22\u001b[0;31m     \u001b[0mmetropHast\u001b[0m\u001b[0;34m(\u001b[0m\u001b[0mgSaveFigs\u001b[0m\u001b[0;34m)\u001b[0m\u001b[0;34m\u001b[0m\u001b[0;34m\u001b[0m\u001b[0m\n\u001b[0m\u001b[1;32m     23\u001b[0m \u001b[0;34m\u001b[0m\u001b[0m\n\u001b[1;32m     24\u001b[0m \u001b[0;31m# Construct a function with the same number of bins, not fit yet\u001b[0m\u001b[0;34m\u001b[0m\u001b[0;34m\u001b[0m\u001b[0;34m\u001b[0m\u001b[0m\n",
            "\u001b[0;32m<ipython-input-36-4d91c21a1621>\u001b[0m in \u001b[0;36mmetropHast\u001b[0;34m(saveFigs)\u001b[0m\n\u001b[1;32m     24\u001b[0m \u001b[0;34m\u001b[0m\u001b[0m\n\u001b[1;32m     25\u001b[0m     \u001b[0moh\u001b[0m \u001b[0;34m=\u001b[0m \u001b[0mdoOutputHistos4\u001b[0m\u001b[0;34m(\u001b[0m\u001b[0mgFit\u001b[0m\u001b[0;34m,\u001b[0m\u001b[0mgNames\u001b[0m\u001b[0;34m)\u001b[0m\u001b[0;34m\u001b[0m\u001b[0;34m\u001b[0m\u001b[0m\n\u001b[0;32m---> 26\u001b[0;31m     \u001b[0mhh\u001b[0m \u001b[0;34m=\u001b[0m \u001b[0mdoHistoryHistos4\u001b[0m\u001b[0;34m(\u001b[0m\u001b[0mgFit\u001b[0m\u001b[0;34m,\u001b[0m\u001b[0mgNames\u001b[0m\u001b[0;34m)\u001b[0m\u001b[0;34m\u001b[0m\u001b[0;34m\u001b[0m\u001b[0m\n\u001b[0m\u001b[1;32m     27\u001b[0m \u001b[0;34m\u001b[0m\u001b[0m\n\u001b[1;32m     28\u001b[0m     \u001b[0mcpost\u001b[0m \u001b[0;34m=\u001b[0m \u001b[0mprob\u001b[0m\u001b[0;34m(\u001b[0m\u001b[0mcurrent\u001b[0m\u001b[0;34m)\u001b[0m \u001b[0;34m+\u001b[0m \u001b[0mprior\u001b[0m\u001b[0;34m(\u001b[0m\u001b[0mcurrent\u001b[0m\u001b[0;34m)\u001b[0m\u001b[0;34m\u001b[0m\u001b[0;34m\u001b[0m\u001b[0m\n",
            "\u001b[0;32m<ipython-input-32-bf25a78ce536>\u001b[0m in \u001b[0;36m__init__\u001b[0;34m(self, Fit, Names)\u001b[0m\n\u001b[1;32m     36\u001b[0m                 \u001b[0mself\u001b[0m\u001b[0;34m.\u001b[0m\u001b[0midx\u001b[0m\u001b[0;34m[\u001b[0m\u001b[0mn0\u001b[0m\u001b[0;34m]\u001b[0m \u001b[0;34m=\u001b[0m \u001b[0mi\u001b[0m\u001b[0;34m\u001b[0m\u001b[0;34m\u001b[0m\u001b[0m\n\u001b[1;32m     37\u001b[0m                 \u001b[0mself\u001b[0m\u001b[0;34m.\u001b[0m\u001b[0mnames\u001b[0m\u001b[0;34m[\u001b[0m\u001b[0mn0\u001b[0m\u001b[0;34m]\u001b[0m \u001b[0;34m=\u001b[0m \u001b[0mNames\u001b[0m\u001b[0;34m[\u001b[0m\u001b[0mi\u001b[0m\u001b[0;34m]\u001b[0m\u001b[0;34m\u001b[0m\u001b[0;34m\u001b[0m\u001b[0m\n\u001b[0;32m---> 38\u001b[0;31m                 \u001b[0mself\u001b[0m\u001b[0;34m.\u001b[0m\u001b[0mhisto1\u001b[0m\u001b[0;34m[\u001b[0m\u001b[0mn0\u001b[0m\u001b[0;34m]\u001b[0m \u001b[0;34m=\u001b[0m \u001b[0mnp\u001b[0m\u001b[0;34m.\u001b[0m\u001b[0mzeros\u001b[0m\u001b[0;34m(\u001b[0m\u001b[0mself\u001b[0m\u001b[0;34m.\u001b[0m\u001b[0mnbins\u001b[0m\u001b[0;34m)\u001b[0m\u001b[0;34m\u001b[0m\u001b[0;34m\u001b[0m\u001b[0m\n\u001b[0m\u001b[1;32m     39\u001b[0m                 \u001b[0mn0\u001b[0m \u001b[0;34m+=\u001b[0m \u001b[0;36m1\u001b[0m\u001b[0;34m\u001b[0m\u001b[0;34m\u001b[0m\u001b[0m\n\u001b[1;32m     40\u001b[0m \u001b[0;34m\u001b[0m\u001b[0m\n",
            "\u001b[0;31mTypeError\u001b[0m: 'float' object cannot be interpreted as an integer"
          ]
        }
      ]
    },
    {
      "cell_type": "markdown",
      "metadata": {
        "id": "3vtt8xeJ-r6u",
        "colab_type": "text"
      },
      "source": [
        "# Output"
      ]
    }
  ]
}